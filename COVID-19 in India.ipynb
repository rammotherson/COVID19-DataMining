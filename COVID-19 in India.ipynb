{
 "cells": [
  {
   "cell_type": "markdown",
   "metadata": {},
   "source": [
    "# COVID-19 in India"
   ]
  },
  {
   "cell_type": "markdown",
   "metadata": {},
   "source": [
    "COVID-19 is an infectious disease caused by the Corona Virus, biologically known as severe acute respiratory syndrome coronavirus 2 (SARS-CoV-2). The disease was first identified in Wuhan, the capital of China's Hubei province in December 2019 and has spread all over the world since then. As of writing this, on 26th April 2020, 21:57 IST, there are 2.92 million confirmed cases throughout the world and has resulted in 204,000 deaths according to Google.\n",
    "\n",
    "In this notebook, I will take a look at the current situation in India. We will take a look at the regions which are most hampered by the outbreak and how numbers have steadily climbed in the country\n",
    "\n",
    "To start off, we will import the necessary libraries which I will be using in my analysis and the different data tables from where I sourced my information."
   ]
  },
  {
   "cell_type": "code",
   "execution_count": 1,
   "metadata": {},
   "outputs": [],
   "source": [
    "import pandas as pd\n",
    "import matplotlib.pyplot as plt\n",
    "import numpy as np\n",
    "import seaborn as sns\n",
    "\n",
    "%matplotlib inline\n",
    "%matplotlib notebook"
   ]
  },
  {
   "cell_type": "code",
   "execution_count": 2,
   "metadata": {},
   "outputs": [],
   "source": [
    "covid19_df = pd.read_csv(\"./datasets/covid_19_india.csv\")\n",
    "individuals_df = pd.read_csv(\"./datasets/IndividualDetails.csv\")\n",
    "\n",
    "excel_file = pd.ExcelFile(\"./datasets/Indian States Population and Area.xlsx\")\n",
    "indian_states_df = excel_file.parse('Sheet1')"
   ]
  },
  {
   "cell_type": "markdown",
   "metadata": {},
   "source": [
    "I am using three different sources of data in this analysis. I would like to thank Sudalai Rajkumar and his collaborators for the first two files which I downloaded from Kaggle. The last dataset is something which I collected from the Statewise Aadhaar saturation data in uidai website and from Wikipedia.\n",
    "\n",
    "Let us have a look at the first few records from the COVID 19 dataset sourced from Kaggle."
   ]
  },
  {
   "cell_type": "code",
   "execution_count": 3,
   "metadata": {},
   "outputs": [
    {
     "data": {
      "text/html": [
       "<div>\n",
       "<style scoped>\n",
       "    .dataframe tbody tr th:only-of-type {\n",
       "        vertical-align: middle;\n",
       "    }\n",
       "\n",
       "    .dataframe tbody tr th {\n",
       "        vertical-align: top;\n",
       "    }\n",
       "\n",
       "    .dataframe thead th {\n",
       "        text-align: right;\n",
       "    }\n",
       "</style>\n",
       "<table border=\"1\" class=\"dataframe\">\n",
       "  <thead>\n",
       "    <tr style=\"text-align: right;\">\n",
       "      <th></th>\n",
       "      <th>Sno</th>\n",
       "      <th>Date</th>\n",
       "      <th>Time</th>\n",
       "      <th>State/UnionTerritory</th>\n",
       "      <th>ConfirmedIndianNational</th>\n",
       "      <th>ConfirmedForeignNational</th>\n",
       "      <th>Cured</th>\n",
       "      <th>Deaths</th>\n",
       "      <th>Confirmed</th>\n",
       "    </tr>\n",
       "  </thead>\n",
       "  <tbody>\n",
       "    <tr>\n",
       "      <th>0</th>\n",
       "      <td>1</td>\n",
       "      <td>30/01/20</td>\n",
       "      <td>6:00 PM</td>\n",
       "      <td>Kerala</td>\n",
       "      <td>1</td>\n",
       "      <td>0</td>\n",
       "      <td>0</td>\n",
       "      <td>0</td>\n",
       "      <td>1</td>\n",
       "    </tr>\n",
       "    <tr>\n",
       "      <th>1</th>\n",
       "      <td>2</td>\n",
       "      <td>31/01/20</td>\n",
       "      <td>6:00 PM</td>\n",
       "      <td>Kerala</td>\n",
       "      <td>1</td>\n",
       "      <td>0</td>\n",
       "      <td>0</td>\n",
       "      <td>0</td>\n",
       "      <td>1</td>\n",
       "    </tr>\n",
       "    <tr>\n",
       "      <th>2</th>\n",
       "      <td>3</td>\n",
       "      <td>01/02/20</td>\n",
       "      <td>6:00 PM</td>\n",
       "      <td>Kerala</td>\n",
       "      <td>2</td>\n",
       "      <td>0</td>\n",
       "      <td>0</td>\n",
       "      <td>0</td>\n",
       "      <td>2</td>\n",
       "    </tr>\n",
       "    <tr>\n",
       "      <th>3</th>\n",
       "      <td>4</td>\n",
       "      <td>02/02/20</td>\n",
       "      <td>6:00 PM</td>\n",
       "      <td>Kerala</td>\n",
       "      <td>3</td>\n",
       "      <td>0</td>\n",
       "      <td>0</td>\n",
       "      <td>0</td>\n",
       "      <td>3</td>\n",
       "    </tr>\n",
       "    <tr>\n",
       "      <th>4</th>\n",
       "      <td>5</td>\n",
       "      <td>03/02/20</td>\n",
       "      <td>6:00 PM</td>\n",
       "      <td>Kerala</td>\n",
       "      <td>3</td>\n",
       "      <td>0</td>\n",
       "      <td>0</td>\n",
       "      <td>0</td>\n",
       "      <td>3</td>\n",
       "    </tr>\n",
       "  </tbody>\n",
       "</table>\n",
       "</div>"
      ],
      "text/plain": [
       "   Sno      Date     Time State/UnionTerritory ConfirmedIndianNational  \\\n",
       "0    1  30/01/20  6:00 PM               Kerala                       1   \n",
       "1    2  31/01/20  6:00 PM               Kerala                       1   \n",
       "2    3  01/02/20  6:00 PM               Kerala                       2   \n",
       "3    4  02/02/20  6:00 PM               Kerala                       3   \n",
       "4    5  03/02/20  6:00 PM               Kerala                       3   \n",
       "\n",
       "  ConfirmedForeignNational  Cured  Deaths  Confirmed  \n",
       "0                        0      0       0          1  \n",
       "1                        0      0       0          1  \n",
       "2                        0      0       0          2  \n",
       "3                        0      0       0          3  \n",
       "4                        0      0       0          3  "
      ]
     },
     "execution_count": 3,
     "metadata": {},
     "output_type": "execute_result"
    }
   ],
   "source": [
    "covid19_df.head()"
   ]
  },
  {
   "cell_type": "code",
   "execution_count": 4,
   "metadata": {},
   "outputs": [
    {
     "data": {
      "text/html": [
       "<div>\n",
       "<style scoped>\n",
       "    .dataframe tbody tr th:only-of-type {\n",
       "        vertical-align: middle;\n",
       "    }\n",
       "\n",
       "    .dataframe tbody tr th {\n",
       "        vertical-align: top;\n",
       "    }\n",
       "\n",
       "    .dataframe thead th {\n",
       "        text-align: right;\n",
       "    }\n",
       "</style>\n",
       "<table border=\"1\" class=\"dataframe\">\n",
       "  <thead>\n",
       "    <tr style=\"text-align: right;\">\n",
       "      <th></th>\n",
       "      <th>Sno</th>\n",
       "      <th>Date</th>\n",
       "      <th>Time</th>\n",
       "      <th>State/UnionTerritory</th>\n",
       "      <th>ConfirmedIndianNational</th>\n",
       "      <th>ConfirmedForeignNational</th>\n",
       "      <th>Cured</th>\n",
       "      <th>Deaths</th>\n",
       "      <th>Confirmed</th>\n",
       "    </tr>\n",
       "  </thead>\n",
       "  <tbody>\n",
       "    <tr>\n",
       "      <th>1313</th>\n",
       "      <td>1314</td>\n",
       "      <td>25/04/20</td>\n",
       "      <td>5:00 PM</td>\n",
       "      <td>Telengana</td>\n",
       "      <td>-</td>\n",
       "      <td>-</td>\n",
       "      <td>253</td>\n",
       "      <td>26</td>\n",
       "      <td>984</td>\n",
       "    </tr>\n",
       "    <tr>\n",
       "      <th>1314</th>\n",
       "      <td>1315</td>\n",
       "      <td>25/04/20</td>\n",
       "      <td>5:00 PM</td>\n",
       "      <td>Tripura</td>\n",
       "      <td>-</td>\n",
       "      <td>-</td>\n",
       "      <td>1</td>\n",
       "      <td>0</td>\n",
       "      <td>2</td>\n",
       "    </tr>\n",
       "    <tr>\n",
       "      <th>1315</th>\n",
       "      <td>1316</td>\n",
       "      <td>25/04/20</td>\n",
       "      <td>5:00 PM</td>\n",
       "      <td>Uttarakhand</td>\n",
       "      <td>-</td>\n",
       "      <td>-</td>\n",
       "      <td>25</td>\n",
       "      <td>0</td>\n",
       "      <td>48</td>\n",
       "    </tr>\n",
       "    <tr>\n",
       "      <th>1316</th>\n",
       "      <td>1317</td>\n",
       "      <td>25/04/20</td>\n",
       "      <td>5:00 PM</td>\n",
       "      <td>Uttar Pradesh</td>\n",
       "      <td>-</td>\n",
       "      <td>-</td>\n",
       "      <td>248</td>\n",
       "      <td>26</td>\n",
       "      <td>1778</td>\n",
       "    </tr>\n",
       "    <tr>\n",
       "      <th>1317</th>\n",
       "      <td>1318</td>\n",
       "      <td>25/04/20</td>\n",
       "      <td>5:00 PM</td>\n",
       "      <td>West Bengal</td>\n",
       "      <td>-</td>\n",
       "      <td>-</td>\n",
       "      <td>103</td>\n",
       "      <td>18</td>\n",
       "      <td>571</td>\n",
       "    </tr>\n",
       "  </tbody>\n",
       "</table>\n",
       "</div>"
      ],
      "text/plain": [
       "       Sno      Date     Time State/UnionTerritory ConfirmedIndianNational  \\\n",
       "1313  1314  25/04/20  5:00 PM            Telengana                       -   \n",
       "1314  1315  25/04/20  5:00 PM              Tripura                       -   \n",
       "1315  1316  25/04/20  5:00 PM          Uttarakhand                       -   \n",
       "1316  1317  25/04/20  5:00 PM        Uttar Pradesh                       -   \n",
       "1317  1318  25/04/20  5:00 PM          West Bengal                       -   \n",
       "\n",
       "     ConfirmedForeignNational  Cured  Deaths  Confirmed  \n",
       "1313                        -    253      26        984  \n",
       "1314                        -      1       0          2  \n",
       "1315                        -     25       0         48  \n",
       "1316                        -    248      26       1778  \n",
       "1317                        -    103      18        571  "
      ]
     },
     "execution_count": 4,
     "metadata": {},
     "output_type": "execute_result"
    }
   ],
   "source": [
    "covid19_df.tail()"
   ]
  },
  {
   "cell_type": "markdown",
   "metadata": {},
   "source": [
    "So we can see that the dataset provides a day by day record of the number of cases found in a specific state in the country. On further inspecting, we find that this dataset contains 1318 entries and contains 9 features. These are as seen contains some vital data like the number of confirmed cases, deaths, cured people till a specific day in a specific state. The Confirmed Cases are further broken down into Indian Nationals and Foreigners. The level of detail in this dataset is something which I loved the most !"
   ]
  },
  {
   "cell_type": "code",
   "execution_count": 5,
   "metadata": {},
   "outputs": [
    {
     "data": {
      "text/plain": [
       "(1318, 9)"
      ]
     },
     "execution_count": 5,
     "metadata": {},
     "output_type": "execute_result"
    }
   ],
   "source": [
    "covid19_df.shape"
   ]
  },
  {
   "cell_type": "code",
   "execution_count": 6,
   "metadata": {},
   "outputs": [
    {
     "data": {
      "text/plain": [
       "Sno                         0\n",
       "Date                        0\n",
       "Time                        0\n",
       "State/UnionTerritory        0\n",
       "ConfirmedIndianNational     0\n",
       "ConfirmedForeignNational    0\n",
       "Cured                       0\n",
       "Deaths                      0\n",
       "Confirmed                   0\n",
       "dtype: int64"
      ]
     },
     "execution_count": 6,
     "metadata": {},
     "output_type": "execute_result"
    }
   ],
   "source": [
    "covid19_df.isna().sum()"
   ]
  },
  {
   "cell_type": "markdown",
   "metadata": {},
   "source": [
    "Here, we see that there are no missing values in this dataset which makes my job more easier. Let us now have a look at the most recent records for each state to gain an idea about where we stand currently. From the last set of records, we can see that we have data till 25th April 2020."
   ]
  },
  {
   "cell_type": "code",
   "execution_count": 7,
   "metadata": {},
   "outputs": [
    {
     "data": {
      "text/html": [
       "<div>\n",
       "<style scoped>\n",
       "    .dataframe tbody tr th:only-of-type {\n",
       "        vertical-align: middle;\n",
       "    }\n",
       "\n",
       "    .dataframe tbody tr th {\n",
       "        vertical-align: top;\n",
       "    }\n",
       "\n",
       "    .dataframe thead th {\n",
       "        text-align: right;\n",
       "    }\n",
       "</style>\n",
       "<table border=\"1\" class=\"dataframe\">\n",
       "  <thead>\n",
       "    <tr style=\"text-align: right;\">\n",
       "      <th></th>\n",
       "      <th>Sno</th>\n",
       "      <th>Date</th>\n",
       "      <th>Time</th>\n",
       "      <th>State/UnionTerritory</th>\n",
       "      <th>ConfirmedIndianNational</th>\n",
       "      <th>ConfirmedForeignNational</th>\n",
       "      <th>Cured</th>\n",
       "      <th>Deaths</th>\n",
       "      <th>Confirmed</th>\n",
       "    </tr>\n",
       "  </thead>\n",
       "  <tbody>\n",
       "    <tr>\n",
       "      <th>1286</th>\n",
       "      <td>1287</td>\n",
       "      <td>25/04/20</td>\n",
       "      <td>5:00 PM</td>\n",
       "      <td>Andaman and Nicobar Islands</td>\n",
       "      <td>-</td>\n",
       "      <td>-</td>\n",
       "      <td>11</td>\n",
       "      <td>0</td>\n",
       "      <td>27</td>\n",
       "    </tr>\n",
       "    <tr>\n",
       "      <th>1287</th>\n",
       "      <td>1288</td>\n",
       "      <td>25/04/20</td>\n",
       "      <td>5:00 PM</td>\n",
       "      <td>Andhra Pradesh</td>\n",
       "      <td>-</td>\n",
       "      <td>-</td>\n",
       "      <td>171</td>\n",
       "      <td>31</td>\n",
       "      <td>1061</td>\n",
       "    </tr>\n",
       "    <tr>\n",
       "      <th>1288</th>\n",
       "      <td>1289</td>\n",
       "      <td>25/04/20</td>\n",
       "      <td>5:00 PM</td>\n",
       "      <td>Arunachal Pradesh</td>\n",
       "      <td>-</td>\n",
       "      <td>-</td>\n",
       "      <td>1</td>\n",
       "      <td>0</td>\n",
       "      <td>1</td>\n",
       "    </tr>\n",
       "    <tr>\n",
       "      <th>1289</th>\n",
       "      <td>1290</td>\n",
       "      <td>25/04/20</td>\n",
       "      <td>5:00 PM</td>\n",
       "      <td>Assam</td>\n",
       "      <td>-</td>\n",
       "      <td>-</td>\n",
       "      <td>19</td>\n",
       "      <td>1</td>\n",
       "      <td>36</td>\n",
       "    </tr>\n",
       "    <tr>\n",
       "      <th>1290</th>\n",
       "      <td>1291</td>\n",
       "      <td>25/04/20</td>\n",
       "      <td>5:00 PM</td>\n",
       "      <td>Bihar</td>\n",
       "      <td>-</td>\n",
       "      <td>-</td>\n",
       "      <td>46</td>\n",
       "      <td>2</td>\n",
       "      <td>228</td>\n",
       "    </tr>\n",
       "  </tbody>\n",
       "</table>\n",
       "</div>"
      ],
      "text/plain": [
       "       Sno      Date     Time         State/UnionTerritory  \\\n",
       "1286  1287  25/04/20  5:00 PM  Andaman and Nicobar Islands   \n",
       "1287  1288  25/04/20  5:00 PM               Andhra Pradesh   \n",
       "1288  1289  25/04/20  5:00 PM            Arunachal Pradesh   \n",
       "1289  1290  25/04/20  5:00 PM                        Assam   \n",
       "1290  1291  25/04/20  5:00 PM                        Bihar   \n",
       "\n",
       "     ConfirmedIndianNational ConfirmedForeignNational  Cured  Deaths  \\\n",
       "1286                       -                        -     11       0   \n",
       "1287                       -                        -    171      31   \n",
       "1288                       -                        -      1       0   \n",
       "1289                       -                        -     19       1   \n",
       "1290                       -                        -     46       2   \n",
       "\n",
       "      Confirmed  \n",
       "1286         27  \n",
       "1287       1061  \n",
       "1288          1  \n",
       "1289         36  \n",
       "1290        228  "
      ]
     },
     "execution_count": 7,
     "metadata": {},
     "output_type": "execute_result"
    }
   ],
   "source": [
    "covid19_df_latest = covid19_df[covid19_df['Date']==\"25/04/20\"]\n",
    "covid19_df_latest.head()"
   ]
  },
  {
   "cell_type": "code",
   "execution_count": 8,
   "metadata": {},
   "outputs": [
    {
     "data": {
      "text/plain": [
       "24893"
      ]
     },
     "execution_count": 8,
     "metadata": {},
     "output_type": "execute_result"
    }
   ],
   "source": [
    "covid19_df_latest['Confirmed'].sum()"
   ]
  },
  {
   "cell_type": "markdown",
   "metadata": {},
   "source": [
    "So now we have filtered the dataset of 1318 records on the basis of the most recent data for every state. On inspecting this data, we see that India has a total of 24,893 cases till 25th April 2020."
   ]
  },
  {
   "cell_type": "markdown",
   "metadata": {},
   "source": [
    "<h1>STATEWISE FIGURES</h1>"
   ]
  },
  {
   "cell_type": "code",
   "execution_count": 9,
   "metadata": {},
   "outputs": [
    {
     "data": {
      "image/png": "[encoded data removed]",
      "text/plain": [
       "<Figure size 960x640 with 1 Axes>"
      ]
     },
     "metadata": {
      "needs_background": "light"
     },
     "output_type": "display_data"
    }
   ],
   "source": [
    "covid19_df_latest = covid19_df_latest.sort_values(by=['Confirmed'], ascending = False)\n",
    "plt.figure(figsize=(12,8), dpi=80)\n",
    "plt.bar(covid19_df_latest['State/UnionTerritory'][:5], covid19_df_latest['Confirmed'][:5],\n",
    "        align='center',color='lightgrey')\n",
    "plt.ylabel('Number of Confirmed Cases', size = 12)\n",
    "plt.title('States with maximum confirmed cases', size = 16)\n",
    "plt.show()"
   ]
  },
  {
   "cell_type": "markdown",
   "metadata": {},
   "source": [
    "On inspecting the above visualization, we see that Maharashtra has the most number of inspected cases as of now. Maharashtra is almost touching 7000 cases and may well have crossed that figure by the time I upload this notebook. The situation in Maharashtra is so grave that no other state in India has crossed even half that mark as per the data we have. Gujarat and Delhi are about to touch the 3000 mark whereas Rajasthan and Madhya Pradesh have just over 2000 cases."
   ]
  },
  {
   "cell_type": "code",
   "execution_count": 10,
   "metadata": {},
   "outputs": [
    {
     "data": {
      "text/plain": [
       "779"
      ]
     },
     "execution_count": 10,
     "metadata": {},
     "output_type": "execute_result"
    }
   ],
   "source": [
    "covid19_df_latest['Deaths'].sum()"
   ]
  },
  {
   "cell_type": "markdown",
   "metadata": {},
   "source": [
    "As per the data in the dataset, India has had 779 deaths across all states. We will now see which states have the most deaths."
   ]
  },
  {
   "cell_type": "code",
   "execution_count": 11,
   "metadata": {},
   "outputs": [
    {
     "data": {
      "image/png": "[encoded data removed]",
      "text/plain": [
       "<Figure size 960x640 with 1 Axes>"
      ]
     },
     "metadata": {
      "needs_background": "light"
     },
     "output_type": "display_data"
    }
   ],
   "source": [
    "covid19_df_latest = covid19_df_latest.sort_values(by=['Deaths'], ascending = False)\n",
    "plt.figure(figsize=(12,8), dpi=80)\n",
    "plt.bar(covid19_df_latest['State/UnionTerritory'][:5], covid19_df_latest['Deaths'][:5], align='center',color='lightgrey')\n",
    "plt.ylabel('Number of Deaths', size = 12)\n",
    "plt.title('States with maximum deaths', size = 16)\n",
    "plt.show()"
   ]
  },
  {
   "cell_type": "markdown",
   "metadata": {},
   "source": [
    "It is hardly surprising that four of the five states which figured in the former graph appear in this graph as well. Maharashtra currently account for almost half of the deaths in India due to COVID-19. Second placed Gujarat has not reached the halfway mark here as well. Madhya Pradesh is almost about to reach the three-figure mark with Delhi and Andhra Pradesh following on.\n",
    "\n",
    "Next up, I wanted to look at the number of deaths per confirmed cases in different Indian states to gain a better idea about the healthcare facilities available."
   ]
  },
  {
   "cell_type": "code",
   "execution_count": 12,
   "metadata": {},
   "outputs": [
    {
     "data": {
      "text/html": [
       "<div>\n",
       "<style scoped>\n",
       "    .dataframe tbody tr th:only-of-type {\n",
       "        vertical-align: middle;\n",
       "    }\n",
       "\n",
       "    .dataframe tbody tr th {\n",
       "        vertical-align: top;\n",
       "    }\n",
       "\n",
       "    .dataframe thead th {\n",
       "        text-align: right;\n",
       "    }\n",
       "</style>\n",
       "<table border=\"1\" class=\"dataframe\">\n",
       "  <thead>\n",
       "    <tr style=\"text-align: right;\">\n",
       "      <th></th>\n",
       "      <th>Sno</th>\n",
       "      <th>Date</th>\n",
       "      <th>Time</th>\n",
       "      <th>State/UnionTerritory</th>\n",
       "      <th>ConfirmedIndianNational</th>\n",
       "      <th>ConfirmedForeignNational</th>\n",
       "      <th>Cured</th>\n",
       "      <th>Deaths</th>\n",
       "      <th>Confirmed</th>\n",
       "      <th>Deaths/Confirmed Cases</th>\n",
       "    </tr>\n",
       "  </thead>\n",
       "  <tbody>\n",
       "    <tr>\n",
       "      <th>1306</th>\n",
       "      <td>1307</td>\n",
       "      <td>25/04/20</td>\n",
       "      <td>5:00 PM</td>\n",
       "      <td>Meghalaya</td>\n",
       "      <td>-</td>\n",
       "      <td>-</td>\n",
       "      <td>0</td>\n",
       "      <td>1</td>\n",
       "      <td>12</td>\n",
       "      <td>12.00</td>\n",
       "    </tr>\n",
       "    <tr>\n",
       "      <th>1310</th>\n",
       "      <td>1311</td>\n",
       "      <td>25/04/20</td>\n",
       "      <td>5:00 PM</td>\n",
       "      <td>Punjab</td>\n",
       "      <td>-</td>\n",
       "      <td>-</td>\n",
       "      <td>67</td>\n",
       "      <td>17</td>\n",
       "      <td>298</td>\n",
       "      <td>17.53</td>\n",
       "    </tr>\n",
       "    <tr>\n",
       "      <th>1299</th>\n",
       "      <td>1300</td>\n",
       "      <td>25/04/20</td>\n",
       "      <td>5:00 PM</td>\n",
       "      <td>Jharkhand</td>\n",
       "      <td>-</td>\n",
       "      <td>-</td>\n",
       "      <td>9</td>\n",
       "      <td>3</td>\n",
       "      <td>59</td>\n",
       "      <td>19.67</td>\n",
       "    </tr>\n",
       "    <tr>\n",
       "      <th>1303</th>\n",
       "      <td>1304</td>\n",
       "      <td>25/04/20</td>\n",
       "      <td>5:00 PM</td>\n",
       "      <td>Madhya Pradesh</td>\n",
       "      <td>-</td>\n",
       "      <td>-</td>\n",
       "      <td>210</td>\n",
       "      <td>92</td>\n",
       "      <td>1952</td>\n",
       "      <td>21.22</td>\n",
       "    </tr>\n",
       "    <tr>\n",
       "      <th>1295</th>\n",
       "      <td>1296</td>\n",
       "      <td>25/04/20</td>\n",
       "      <td>5:00 PM</td>\n",
       "      <td>Gujarat</td>\n",
       "      <td>-</td>\n",
       "      <td>-</td>\n",
       "      <td>265</td>\n",
       "      <td>127</td>\n",
       "      <td>2815</td>\n",
       "      <td>22.17</td>\n",
       "    </tr>\n",
       "    <tr>\n",
       "      <th>1304</th>\n",
       "      <td>1305</td>\n",
       "      <td>25/04/20</td>\n",
       "      <td>5:00 PM</td>\n",
       "      <td>Maharashtra</td>\n",
       "      <td>-</td>\n",
       "      <td>-</td>\n",
       "      <td>957</td>\n",
       "      <td>301</td>\n",
       "      <td>6817</td>\n",
       "      <td>22.65</td>\n",
       "    </tr>\n",
       "    <tr>\n",
       "      <th>1300</th>\n",
       "      <td>1301</td>\n",
       "      <td>25/04/20</td>\n",
       "      <td>5:00 PM</td>\n",
       "      <td>Karnataka</td>\n",
       "      <td>-</td>\n",
       "      <td>-</td>\n",
       "      <td>153</td>\n",
       "      <td>18</td>\n",
       "      <td>489</td>\n",
       "      <td>27.17</td>\n",
       "    </tr>\n",
       "    <tr>\n",
       "      <th>1317</th>\n",
       "      <td>1318</td>\n",
       "      <td>25/04/20</td>\n",
       "      <td>5:00 PM</td>\n",
       "      <td>West Bengal</td>\n",
       "      <td>-</td>\n",
       "      <td>-</td>\n",
       "      <td>103</td>\n",
       "      <td>18</td>\n",
       "      <td>571</td>\n",
       "      <td>31.72</td>\n",
       "    </tr>\n",
       "    <tr>\n",
       "      <th>1287</th>\n",
       "      <td>1288</td>\n",
       "      <td>25/04/20</td>\n",
       "      <td>5:00 PM</td>\n",
       "      <td>Andhra Pradesh</td>\n",
       "      <td>-</td>\n",
       "      <td>-</td>\n",
       "      <td>171</td>\n",
       "      <td>31</td>\n",
       "      <td>1061</td>\n",
       "      <td>34.23</td>\n",
       "    </tr>\n",
       "    <tr>\n",
       "      <th>1289</th>\n",
       "      <td>1290</td>\n",
       "      <td>25/04/20</td>\n",
       "      <td>5:00 PM</td>\n",
       "      <td>Assam</td>\n",
       "      <td>-</td>\n",
       "      <td>-</td>\n",
       "      <td>19</td>\n",
       "      <td>1</td>\n",
       "      <td>36</td>\n",
       "      <td>36.00</td>\n",
       "    </tr>\n",
       "  </tbody>\n",
       "</table>\n",
       "</div>"
      ],
      "text/plain": [
       "       Sno      Date     Time State/UnionTerritory ConfirmedIndianNational  \\\n",
       "1306  1307  25/04/20  5:00 PM            Meghalaya                       -   \n",
       "1310  1311  25/04/20  5:00 PM               Punjab                       -   \n",
       "1299  1300  25/04/20  5:00 PM            Jharkhand                       -   \n",
       "1303  1304  25/04/20  5:00 PM       Madhya Pradesh                       -   \n",
       "1295  1296  25/04/20  5:00 PM              Gujarat                       -   \n",
       "1304  1305  25/04/20  5:00 PM          Maharashtra                       -   \n",
       "1300  1301  25/04/20  5:00 PM            Karnataka                       -   \n",
       "1317  1318  25/04/20  5:00 PM          West Bengal                       -   \n",
       "1287  1288  25/04/20  5:00 PM       Andhra Pradesh                       -   \n",
       "1289  1290  25/04/20  5:00 PM                Assam                       -   \n",
       "\n",
       "     ConfirmedForeignNational  Cured  Deaths  Confirmed  \\\n",
       "1306                        -      0       1         12   \n",
       "1310                        -     67      17        298   \n",
       "1299                        -      9       3         59   \n",
       "1303                        -    210      92       1952   \n",
       "1295                        -    265     127       2815   \n",
       "1304                        -    957     301       6817   \n",
       "1300                        -    153      18        489   \n",
       "1317                        -    103      18        571   \n",
       "1287                        -    171      31       1061   \n",
       "1289                        -     19       1         36   \n",
       "\n",
       "      Deaths/Confirmed Cases  \n",
       "1306                   12.00  \n",
       "1310                   17.53  \n",
       "1299                   19.67  \n",
       "1303                   21.22  \n",
       "1295                   22.17  \n",
       "1304                   22.65  \n",
       "1300                   27.17  \n",
       "1317                   31.72  \n",
       "1287                   34.23  \n",
       "1289                   36.00  "
      ]
     },
     "execution_count": 12,
     "metadata": {},
     "output_type": "execute_result"
    }
   ],
   "source": [
    "covid19_df_latest['Deaths/Confirmed Cases'] = (covid19_df_latest['Confirmed']/covid19_df_latest['Deaths']).round(2)\n",
    "covid19_df_latest['Deaths/Confirmed Cases'] = [np.nan if x == float(\"inf\") else x for x in covid19_df_latest['Deaths/Confirmed Cases']]\n",
    "covid19_df_latest = covid19_df_latest.sort_values(by=['Deaths/Confirmed Cases'], ascending=True, na_position='last')\n",
    "covid19_df_latest.iloc[:10]"
   ]
  },
  {
   "cell_type": "markdown",
   "metadata": {},
   "source": [
    "So after creating this new measure and sorting the states based on this figure, I look at the ten worst states in this regard. We see that there are some states like Meghalaya, Jharkhand and Assam where the number of cases and deaths are pretty low as of now and it appears things are in control. But other states like Punjab, Karnataka look well hit by the condition. We leave West Bengal out of the entire equation since there has been news emerging from the state regarding mispublishing of numbers. Madhya Pradesh, Gujarat and Maharashtra also find themselves here in this list.\n",
    "\n",
    "However, these statistics do not always lend a clear picture. India is a country of varying demographics and no two states are the same. May be equating the figures to the estimated population of a state may lend a better idea to the entire picture."
   ]
  },
  {
   "cell_type": "markdown",
   "metadata": {},
   "source": [
    "<h1>CASES PER 10 MILLION</h1>"
   ]
  },
  {
   "cell_type": "code",
   "execution_count": 13,
   "metadata": {},
   "outputs": [
    {
     "data": {
      "text/html": [
       "<div>\n",
       "<style scoped>\n",
       "    .dataframe tbody tr th:only-of-type {\n",
       "        vertical-align: middle;\n",
       "    }\n",
       "\n",
       "    .dataframe tbody tr th {\n",
       "        vertical-align: top;\n",
       "    }\n",
       "\n",
       "    .dataframe thead th {\n",
       "        text-align: right;\n",
       "    }\n",
       "</style>\n",
       "<table border=\"1\" class=\"dataframe\">\n",
       "  <thead>\n",
       "    <tr style=\"text-align: right;\">\n",
       "      <th></th>\n",
       "      <th>State</th>\n",
       "      <th>Aadhaar assigned as of 2019</th>\n",
       "      <th>Area (per sq km)</th>\n",
       "    </tr>\n",
       "  </thead>\n",
       "  <tbody>\n",
       "    <tr>\n",
       "      <th>0</th>\n",
       "      <td>Delhi</td>\n",
       "      <td>21763471</td>\n",
       "      <td>1483</td>\n",
       "    </tr>\n",
       "    <tr>\n",
       "      <th>1</th>\n",
       "      <td>Haryana</td>\n",
       "      <td>28941133</td>\n",
       "      <td>44212</td>\n",
       "    </tr>\n",
       "    <tr>\n",
       "      <th>2</th>\n",
       "      <td>Kerala</td>\n",
       "      <td>36475649</td>\n",
       "      <td>38852</td>\n",
       "    </tr>\n",
       "    <tr>\n",
       "      <th>3</th>\n",
       "      <td>Himachal Pradesh</td>\n",
       "      <td>7560770</td>\n",
       "      <td>55673</td>\n",
       "    </tr>\n",
       "    <tr>\n",
       "      <th>4</th>\n",
       "      <td>Punjab</td>\n",
       "      <td>30355185</td>\n",
       "      <td>50362</td>\n",
       "    </tr>\n",
       "  </tbody>\n",
       "</table>\n",
       "</div>"
      ],
      "text/plain": [
       "              State  Aadhaar assigned as of 2019  Area (per sq km)\n",
       "0             Delhi                     21763471              1483\n",
       "1           Haryana                     28941133             44212\n",
       "2            Kerala                     36475649             38852\n",
       "3  Himachal Pradesh                      7560770             55673\n",
       "4            Punjab                     30355185             50362"
      ]
     },
     "execution_count": 13,
     "metadata": {},
     "output_type": "execute_result"
    }
   ],
   "source": [
    "indian_states_df.head()"
   ]
  },
  {
   "cell_type": "markdown",
   "metadata": {},
   "source": [
    "So let us now use this dataset collected by yours truly. This dataset gives details like the number of Aadhaar cards assigned in each state as of 2019 and the area per square km of each state. The number of Aadhaar cards assigned in each state is a good measure or estimate of the population figure in each state. I decided to use this figure since the official census taken by the Government of India was last done in 2011 and is too huge a gap to be used. I also decided against taking various projected figures for population based on projections of previous census.\n",
    "\n",
    "We will now go ahead and drop some features from our main COVID-19 dataset since these details do not lend much hand to my analysis. We will also rename the number of Aadhaar cards assigned column as Population and discard the Area feature since I decided against using it due to recent updates in States and UTs in India."
   ]
  },
  {
   "cell_type": "code",
   "execution_count": 14,
   "metadata": {},
   "outputs": [
    {
     "data": {
      "text/plain": [
       "(32, 5)"
      ]
     },
     "execution_count": 14,
     "metadata": {},
     "output_type": "execute_result"
    }
   ],
   "source": [
    "covid19_df_latest = covid19_df_latest.drop(['Sno','Date','Time','ConfirmedIndianNational','ConfirmedForeignNational'], axis = 1)\n",
    "covid19_df_latest.shape"
   ]
  },
  {
   "cell_type": "code",
   "execution_count": 15,
   "metadata": {},
   "outputs": [
    {
     "data": {
      "text/html": [
       "<div>\n",
       "<style scoped>\n",
       "    .dataframe tbody tr th:only-of-type {\n",
       "        vertical-align: middle;\n",
       "    }\n",
       "\n",
       "    .dataframe tbody tr th {\n",
       "        vertical-align: top;\n",
       "    }\n",
       "\n",
       "    .dataframe thead th {\n",
       "        text-align: right;\n",
       "    }\n",
       "</style>\n",
       "<table border=\"1\" class=\"dataframe\">\n",
       "  <thead>\n",
       "    <tr style=\"text-align: right;\">\n",
       "      <th></th>\n",
       "      <th>State/UnionTerritory</th>\n",
       "      <th>Population</th>\n",
       "    </tr>\n",
       "  </thead>\n",
       "  <tbody>\n",
       "    <tr>\n",
       "      <th>0</th>\n",
       "      <td>Delhi</td>\n",
       "      <td>21763471</td>\n",
       "    </tr>\n",
       "    <tr>\n",
       "      <th>1</th>\n",
       "      <td>Haryana</td>\n",
       "      <td>28941133</td>\n",
       "    </tr>\n",
       "    <tr>\n",
       "      <th>2</th>\n",
       "      <td>Kerala</td>\n",
       "      <td>36475649</td>\n",
       "    </tr>\n",
       "    <tr>\n",
       "      <th>3</th>\n",
       "      <td>Himachal Pradesh</td>\n",
       "      <td>7560770</td>\n",
       "    </tr>\n",
       "    <tr>\n",
       "      <th>4</th>\n",
       "      <td>Punjab</td>\n",
       "      <td>30355185</td>\n",
       "    </tr>\n",
       "  </tbody>\n",
       "</table>\n",
       "</div>"
      ],
      "text/plain": [
       "  State/UnionTerritory  Population\n",
       "0                Delhi    21763471\n",
       "1              Haryana    28941133\n",
       "2               Kerala    36475649\n",
       "3     Himachal Pradesh     7560770\n",
       "4               Punjab    30355185"
      ]
     },
     "execution_count": 15,
     "metadata": {},
     "output_type": "execute_result"
    }
   ],
   "source": [
    "indian_states_df = indian_states_df[['State', 'Aadhaar assigned as of 2019']]\n",
    "indian_states_df.columns = ['State/UnionTerritory', 'Population']\n",
    "indian_states_df.head()"
   ]
  },
  {
   "cell_type": "markdown",
   "metadata": {},
   "source": [
    "We will now merge the Population dataset with our main dataset and create a new feature called Cases/10 Million to gain some more idea on really which cases are more hit by the COVID-19 crisis. I feel this new measure is now a more level headed measure as it takes care of the population differences which exists between different states."
   ]
  },
  {
   "cell_type": "code",
   "execution_count": 16,
   "metadata": {},
   "outputs": [
    {
     "data": {
      "text/html": [
       "<div>\n",
       "<style scoped>\n",
       "    .dataframe tbody tr th:only-of-type {\n",
       "        vertical-align: middle;\n",
       "    }\n",
       "\n",
       "    .dataframe tbody tr th {\n",
       "        vertical-align: top;\n",
       "    }\n",
       "\n",
       "    .dataframe thead th {\n",
       "        text-align: right;\n",
       "    }\n",
       "</style>\n",
       "<table border=\"1\" class=\"dataframe\">\n",
       "  <thead>\n",
       "    <tr style=\"text-align: right;\">\n",
       "      <th></th>\n",
       "      <th>State/UnionTerritory</th>\n",
       "      <th>Cured</th>\n",
       "      <th>Deaths</th>\n",
       "      <th>Confirmed</th>\n",
       "      <th>Deaths/Confirmed Cases</th>\n",
       "      <th>Population</th>\n",
       "      <th>Cases/10million</th>\n",
       "    </tr>\n",
       "  </thead>\n",
       "  <tbody>\n",
       "    <tr>\n",
       "      <th>0</th>\n",
       "      <td>Meghalaya</td>\n",
       "      <td>0</td>\n",
       "      <td>1</td>\n",
       "      <td>12</td>\n",
       "      <td>12.00</td>\n",
       "      <td>978281</td>\n",
       "      <td>122.664143</td>\n",
       "    </tr>\n",
       "    <tr>\n",
       "      <th>1</th>\n",
       "      <td>Punjab</td>\n",
       "      <td>67</td>\n",
       "      <td>17</td>\n",
       "      <td>298</td>\n",
       "      <td>17.53</td>\n",
       "      <td>30355185</td>\n",
       "      <td>98.171037</td>\n",
       "    </tr>\n",
       "    <tr>\n",
       "      <th>2</th>\n",
       "      <td>Jharkhand</td>\n",
       "      <td>9</td>\n",
       "      <td>3</td>\n",
       "      <td>59</td>\n",
       "      <td>19.67</td>\n",
       "      <td>34607477</td>\n",
       "      <td>17.048339</td>\n",
       "    </tr>\n",
       "    <tr>\n",
       "      <th>3</th>\n",
       "      <td>Madhya Pradesh</td>\n",
       "      <td>210</td>\n",
       "      <td>92</td>\n",
       "      <td>1952</td>\n",
       "      <td>21.22</td>\n",
       "      <td>74770270</td>\n",
       "      <td>261.066330</td>\n",
       "    </tr>\n",
       "    <tr>\n",
       "      <th>4</th>\n",
       "      <td>Gujarat</td>\n",
       "      <td>265</td>\n",
       "      <td>127</td>\n",
       "      <td>2815</td>\n",
       "      <td>22.17</td>\n",
       "      <td>62097024</td>\n",
       "      <td>453.322852</td>\n",
       "    </tr>\n",
       "  </tbody>\n",
       "</table>\n",
       "</div>"
      ],
      "text/plain": [
       "  State/UnionTerritory  Cured  Deaths  Confirmed  Deaths/Confirmed Cases  \\\n",
       "0            Meghalaya      0       1         12                   12.00   \n",
       "1               Punjab     67      17        298                   17.53   \n",
       "2            Jharkhand      9       3         59                   19.67   \n",
       "3       Madhya Pradesh    210      92       1952                   21.22   \n",
       "4              Gujarat    265     127       2815                   22.17   \n",
       "\n",
       "   Population  Cases/10million  \n",
       "0      978281       122.664143  \n",
       "1    30355185        98.171037  \n",
       "2    34607477        17.048339  \n",
       "3    74770270       261.066330  \n",
       "4    62097024       453.322852  "
      ]
     },
     "execution_count": 16,
     "metadata": {},
     "output_type": "execute_result"
    }
   ],
   "source": [
    "covid19_df_latest = pd.merge(covid19_df_latest, indian_states_df, on=\"State/UnionTerritory\")\n",
    "covid19_df_latest['Cases/10million'] = (covid19_df_latest['Confirmed']/covid19_df_latest['Population'])*10000000\n",
    "covid19_df_latest.head()"
   ]
  },
  {
   "cell_type": "code",
   "execution_count": 17,
   "metadata": {},
   "outputs": [
    {
     "data": {
      "text/html": [
       "<div>\n",
       "<style scoped>\n",
       "    .dataframe tbody tr th:only-of-type {\n",
       "        vertical-align: middle;\n",
       "    }\n",
       "\n",
       "    .dataframe tbody tr th {\n",
       "        vertical-align: top;\n",
       "    }\n",
       "\n",
       "    .dataframe thead th {\n",
       "        text-align: right;\n",
       "    }\n",
       "</style>\n",
       "<table border=\"1\" class=\"dataframe\">\n",
       "  <thead>\n",
       "    <tr style=\"text-align: right;\">\n",
       "      <th></th>\n",
       "      <th>State/UnionTerritory</th>\n",
       "      <th>Cured</th>\n",
       "      <th>Deaths</th>\n",
       "      <th>Confirmed</th>\n",
       "      <th>Deaths/Confirmed Cases</th>\n",
       "      <th>Population</th>\n",
       "      <th>Cases/10million</th>\n",
       "    </tr>\n",
       "  </thead>\n",
       "  <tbody>\n",
       "    <tr>\n",
       "      <th>12</th>\n",
       "      <td>Delhi</td>\n",
       "      <td>857</td>\n",
       "      <td>53</td>\n",
       "      <td>2514</td>\n",
       "      <td>47.43</td>\n",
       "      <td>21763471</td>\n",
       "      <td>1155.146622</td>\n",
       "    </tr>\n",
       "    <tr>\n",
       "      <th>22</th>\n",
       "      <td>Ladakh</td>\n",
       "      <td>14</td>\n",
       "      <td>0</td>\n",
       "      <td>20</td>\n",
       "      <td>0.00</td>\n",
       "      <td>210156</td>\n",
       "      <td>951.673995</td>\n",
       "    </tr>\n",
       "    <tr>\n",
       "      <th>5</th>\n",
       "      <td>Maharashtra</td>\n",
       "      <td>957</td>\n",
       "      <td>301</td>\n",
       "      <td>6817</td>\n",
       "      <td>22.65</td>\n",
       "      <td>114063427</td>\n",
       "      <td>597.649937</td>\n",
       "    </tr>\n",
       "    <tr>\n",
       "      <th>4</th>\n",
       "      <td>Gujarat</td>\n",
       "      <td>265</td>\n",
       "      <td>127</td>\n",
       "      <td>2815</td>\n",
       "      <td>22.17</td>\n",
       "      <td>62097024</td>\n",
       "      <td>453.322852</td>\n",
       "    </tr>\n",
       "    <tr>\n",
       "      <th>14</th>\n",
       "      <td>Rajasthan</td>\n",
       "      <td>230</td>\n",
       "      <td>27</td>\n",
       "      <td>2034</td>\n",
       "      <td>75.33</td>\n",
       "      <td>68936999</td>\n",
       "      <td>295.052008</td>\n",
       "    </tr>\n",
       "    <tr>\n",
       "      <th>3</th>\n",
       "      <td>Madhya Pradesh</td>\n",
       "      <td>210</td>\n",
       "      <td>92</td>\n",
       "      <td>1952</td>\n",
       "      <td>21.22</td>\n",
       "      <td>74770270</td>\n",
       "      <td>261.066330</td>\n",
       "    </tr>\n",
       "    <tr>\n",
       "      <th>10</th>\n",
       "      <td>Telengana</td>\n",
       "      <td>253</td>\n",
       "      <td>26</td>\n",
       "      <td>984</td>\n",
       "      <td>37.85</td>\n",
       "      <td>39184011</td>\n",
       "      <td>251.122837</td>\n",
       "    </tr>\n",
       "    <tr>\n",
       "      <th>21</th>\n",
       "      <td>Chandigarh</td>\n",
       "      <td>15</td>\n",
       "      <td>0</td>\n",
       "      <td>28</td>\n",
       "      <td>0.00</td>\n",
       "      <td>1131522</td>\n",
       "      <td>247.454314</td>\n",
       "    </tr>\n",
       "    <tr>\n",
       "      <th>15</th>\n",
       "      <td>Tamil Nadu</td>\n",
       "      <td>866</td>\n",
       "      <td>22</td>\n",
       "      <td>1755</td>\n",
       "      <td>79.77</td>\n",
       "      <td>72344821</td>\n",
       "      <td>242.588201</td>\n",
       "    </tr>\n",
       "    <tr>\n",
       "      <th>8</th>\n",
       "      <td>Andhra Pradesh</td>\n",
       "      <td>171</td>\n",
       "      <td>31</td>\n",
       "      <td>1061</td>\n",
       "      <td>34.23</td>\n",
       "      <td>49145456</td>\n",
       "      <td>215.889746</td>\n",
       "    </tr>\n",
       "    <tr>\n",
       "      <th>18</th>\n",
       "      <td>Kerala</td>\n",
       "      <td>331</td>\n",
       "      <td>4</td>\n",
       "      <td>451</td>\n",
       "      <td>112.75</td>\n",
       "      <td>36475649</td>\n",
       "      <td>123.644133</td>\n",
       "    </tr>\n",
       "    <tr>\n",
       "      <th>0</th>\n",
       "      <td>Meghalaya</td>\n",
       "      <td>0</td>\n",
       "      <td>1</td>\n",
       "      <td>12</td>\n",
       "      <td>12.00</td>\n",
       "      <td>978281</td>\n",
       "      <td>122.664143</td>\n",
       "    </tr>\n",
       "    <tr>\n",
       "      <th>1</th>\n",
       "      <td>Punjab</td>\n",
       "      <td>67</td>\n",
       "      <td>17</td>\n",
       "      <td>298</td>\n",
       "      <td>17.53</td>\n",
       "      <td>30355185</td>\n",
       "      <td>98.171037</td>\n",
       "    </tr>\n",
       "    <tr>\n",
       "      <th>16</th>\n",
       "      <td>Haryana</td>\n",
       "      <td>156</td>\n",
       "      <td>3</td>\n",
       "      <td>272</td>\n",
       "      <td>90.67</td>\n",
       "      <td>28941133</td>\n",
       "      <td>93.983881</td>\n",
       "    </tr>\n",
       "    <tr>\n",
       "      <th>13</th>\n",
       "      <td>Uttar Pradesh</td>\n",
       "      <td>248</td>\n",
       "      <td>26</td>\n",
       "      <td>1778</td>\n",
       "      <td>68.38</td>\n",
       "      <td>203757489</td>\n",
       "      <td>87.260596</td>\n",
       "    </tr>\n",
       "    <tr>\n",
       "      <th>6</th>\n",
       "      <td>Karnataka</td>\n",
       "      <td>153</td>\n",
       "      <td>18</td>\n",
       "      <td>489</td>\n",
       "      <td>27.17</td>\n",
       "      <td>62462743</td>\n",
       "      <td>78.286668</td>\n",
       "    </tr>\n",
       "    <tr>\n",
       "      <th>7</th>\n",
       "      <td>West Bengal</td>\n",
       "      <td>103</td>\n",
       "      <td>18</td>\n",
       "      <td>571</td>\n",
       "      <td>31.72</td>\n",
       "      <td>91928327</td>\n",
       "      <td>62.113607</td>\n",
       "    </tr>\n",
       "    <tr>\n",
       "      <th>24</th>\n",
       "      <td>Puducherry</td>\n",
       "      <td>3</td>\n",
       "      <td>0</td>\n",
       "      <td>7</td>\n",
       "      <td>0.00</td>\n",
       "      <td>1286189</td>\n",
       "      <td>54.424350</td>\n",
       "    </tr>\n",
       "    <tr>\n",
       "      <th>9</th>\n",
       "      <td>Assam</td>\n",
       "      <td>19</td>\n",
       "      <td>1</td>\n",
       "      <td>36</td>\n",
       "      <td>36.00</td>\n",
       "      <td>6755448</td>\n",
       "      <td>53.290322</td>\n",
       "    </tr>\n",
       "    <tr>\n",
       "      <th>11</th>\n",
       "      <td>Himachal Pradesh</td>\n",
       "      <td>18</td>\n",
       "      <td>1</td>\n",
       "      <td>40</td>\n",
       "      <td>40.00</td>\n",
       "      <td>7560770</td>\n",
       "      <td>52.904664</td>\n",
       "    </tr>\n",
       "    <tr>\n",
       "      <th>25</th>\n",
       "      <td>Goa</td>\n",
       "      <td>7</td>\n",
       "      <td>0</td>\n",
       "      <td>7</td>\n",
       "      <td>0.00</td>\n",
       "      <td>1587012</td>\n",
       "      <td>44.108047</td>\n",
       "    </tr>\n",
       "    <tr>\n",
       "      <th>23</th>\n",
       "      <td>Uttarakhand</td>\n",
       "      <td>25</td>\n",
       "      <td>0</td>\n",
       "      <td>48</td>\n",
       "      <td>0.00</td>\n",
       "      <td>11082791</td>\n",
       "      <td>43.310390</td>\n",
       "    </tr>\n",
       "    <tr>\n",
       "      <th>19</th>\n",
       "      <td>Bihar</td>\n",
       "      <td>46</td>\n",
       "      <td>2</td>\n",
       "      <td>228</td>\n",
       "      <td>114.00</td>\n",
       "      <td>102714667</td>\n",
       "      <td>22.197414</td>\n",
       "    </tr>\n",
       "    <tr>\n",
       "      <th>17</th>\n",
       "      <td>Odisha</td>\n",
       "      <td>33</td>\n",
       "      <td>1</td>\n",
       "      <td>94</td>\n",
       "      <td>94.00</td>\n",
       "      <td>42825628</td>\n",
       "      <td>21.949474</td>\n",
       "    </tr>\n",
       "    <tr>\n",
       "      <th>2</th>\n",
       "      <td>Jharkhand</td>\n",
       "      <td>9</td>\n",
       "      <td>3</td>\n",
       "      <td>59</td>\n",
       "      <td>19.67</td>\n",
       "      <td>34607477</td>\n",
       "      <td>17.048339</td>\n",
       "    </tr>\n",
       "    <tr>\n",
       "      <th>20</th>\n",
       "      <td>Chhattisgarh</td>\n",
       "      <td>30</td>\n",
       "      <td>0</td>\n",
       "      <td>36</td>\n",
       "      <td>0.00</td>\n",
       "      <td>27414422</td>\n",
       "      <td>13.131774</td>\n",
       "    </tr>\n",
       "    <tr>\n",
       "      <th>28</th>\n",
       "      <td>Mizoram</td>\n",
       "      <td>0</td>\n",
       "      <td>0</td>\n",
       "      <td>1</td>\n",
       "      <td>0.00</td>\n",
       "      <td>1089577</td>\n",
       "      <td>9.177874</td>\n",
       "    </tr>\n",
       "    <tr>\n",
       "      <th>29</th>\n",
       "      <td>Arunachal Pradesh</td>\n",
       "      <td>1</td>\n",
       "      <td>0</td>\n",
       "      <td>1</td>\n",
       "      <td>0.00</td>\n",
       "      <td>1229964</td>\n",
       "      <td>8.130319</td>\n",
       "    </tr>\n",
       "    <tr>\n",
       "      <th>26</th>\n",
       "      <td>Manipur</td>\n",
       "      <td>2</td>\n",
       "      <td>0</td>\n",
       "      <td>2</td>\n",
       "      <td>0.00</td>\n",
       "      <td>2515724</td>\n",
       "      <td>7.949998</td>\n",
       "    </tr>\n",
       "    <tr>\n",
       "      <th>27</th>\n",
       "      <td>Tripura</td>\n",
       "      <td>1</td>\n",
       "      <td>0</td>\n",
       "      <td>2</td>\n",
       "      <td>0.00</td>\n",
       "      <td>3672693</td>\n",
       "      <td>5.445595</td>\n",
       "    </tr>\n",
       "  </tbody>\n",
       "</table>\n",
       "</div>"
      ],
      "text/plain": [
       "   State/UnionTerritory  Cured  Deaths  Confirmed  Deaths/Confirmed Cases  \\\n",
       "12                Delhi    857      53       2514                   47.43   \n",
       "22               Ladakh     14       0         20                    0.00   \n",
       "5           Maharashtra    957     301       6817                   22.65   \n",
       "4               Gujarat    265     127       2815                   22.17   \n",
       "14            Rajasthan    230      27       2034                   75.33   \n",
       "3        Madhya Pradesh    210      92       1952                   21.22   \n",
       "10            Telengana    253      26        984                   37.85   \n",
       "21           Chandigarh     15       0         28                    0.00   \n",
       "15           Tamil Nadu    866      22       1755                   79.77   \n",
       "8        Andhra Pradesh    171      31       1061                   34.23   \n",
       "18               Kerala    331       4        451                  112.75   \n",
       "0             Meghalaya      0       1         12                   12.00   \n",
       "1                Punjab     67      17        298                   17.53   \n",
       "16              Haryana    156       3        272                   90.67   \n",
       "13        Uttar Pradesh    248      26       1778                   68.38   \n",
       "6             Karnataka    153      18        489                   27.17   \n",
       "7           West Bengal    103      18        571                   31.72   \n",
       "24           Puducherry      3       0          7                    0.00   \n",
       "9                 Assam     19       1         36                   36.00   \n",
       "11     Himachal Pradesh     18       1         40                   40.00   \n",
       "25                  Goa      7       0          7                    0.00   \n",
       "23          Uttarakhand     25       0         48                    0.00   \n",
       "19                Bihar     46       2        228                  114.00   \n",
       "17               Odisha     33       1         94                   94.00   \n",
       "2             Jharkhand      9       3         59                   19.67   \n",
       "20         Chhattisgarh     30       0         36                    0.00   \n",
       "28              Mizoram      0       0          1                    0.00   \n",
       "29    Arunachal Pradesh      1       0          1                    0.00   \n",
       "26              Manipur      2       0          2                    0.00   \n",
       "27              Tripura      1       0          2                    0.00   \n",
       "\n",
       "    Population  Cases/10million  \n",
       "12    21763471      1155.146622  \n",
       "22      210156       951.673995  \n",
       "5    114063427       597.649937  \n",
       "4     62097024       453.322852  \n",
       "14    68936999       295.052008  \n",
       "3     74770270       261.066330  \n",
       "10    39184011       251.122837  \n",
       "21     1131522       247.454314  \n",
       "15    72344821       242.588201  \n",
       "8     49145456       215.889746  \n",
       "18    36475649       123.644133  \n",
       "0       978281       122.664143  \n",
       "1     30355185        98.171037  \n",
       "16    28941133        93.983881  \n",
       "13   203757489        87.260596  \n",
       "6     62462743        78.286668  \n",
       "7     91928327        62.113607  \n",
       "24     1286189        54.424350  \n",
       "9      6755448        53.290322  \n",
       "11     7560770        52.904664  \n",
       "25     1587012        44.108047  \n",
       "23    11082791        43.310390  \n",
       "19   102714667        22.197414  \n",
       "17    42825628        21.949474  \n",
       "2     34607477        17.048339  \n",
       "20    27414422        13.131774  \n",
       "28     1089577         9.177874  \n",
       "29     1229964         8.130319  \n",
       "26     2515724         7.949998  \n",
       "27     3672693         5.445595  "
      ]
     },
     "execution_count": 17,
     "metadata": {},
     "output_type": "execute_result"
    }
   ],
   "source": [
    "covid19_df_latest.fillna(0, inplace=True)\n",
    "covid19_df_latest.sort_values(by='Cases/10million', ascending=False)"
   ]
  },
  {
   "cell_type": "code",
   "execution_count": 18,
   "metadata": {},
   "outputs": [
    {
     "data": {
      "image/png": "[encoded data removed]",
      "text/plain": [
       "<Figure size 960x640 with 1 Axes>"
      ]
     },
     "metadata": {
      "needs_background": "light"
     },
     "output_type": "display_data"
    }
   ],
   "source": [
    "df = covid19_df_latest[(covid19_df_latest['Confirmed']>=1000) | (covid19_df_latest['Cases/10million']>=200)]\n",
    "plt.figure(figsize=(12,8), dpi=80)\n",
    "plt.scatter(covid19_df_latest['Confirmed'], covid19_df_latest['Cases/10million'], alpha=0.5)\n",
    "plt.xlabel('Number of confirmed Cases', size=12)\n",
    "plt.ylabel('Number of cases per 10 million people', size=12)\n",
    "plt.scatter(df['Confirmed'], df['Cases/10million'], color=\"red\")\n",
    "\n",
    "for i in range(df.shape[0]):\n",
    "    plt.annotate(df['State/UnionTerritory'].tolist()[i], xy=(df['Confirmed'].tolist()[i], df['Cases/10million'].tolist()[i]),\n",
    "                xytext = (df['Confirmed'].tolist()[i]+1.0, df['Cases/10million'].tolist()[i]+12.0), size=11)\n",
    "\n",
    "plt.tight_layout()    \n",
    "plt.title('Visualization to display the variation in COVID 19 figures in different Indian states', size=16)\n",
    "plt.show()"
   ]
  },
  {
   "cell_type": "markdown",
   "metadata": {},
   "source": [
    "So from both the table and the visualization, we realise that even if we take the state population in consideration, Maharashtra, Gujarat, Delhi, Rajasthan and Madhya Pradesh are badly hit indeed. In addition to these states come up other states and UTs like Tamil Nadu, Uttar Pradesh, Andhra Pradesh, Telengana, Chandigarh and Ladakh. However, things do look good for Ladakh as out of the 20 confirmed cases, 14 have already recovered. Same for Chandigarh where 15 out of the 28 confirmed cases have recovered.\n",
    "\n",
    "Now that we have six vital features for every state, we can have a look at how these features are co-related to each other and derive some insights from that."
   ]
  },
  {
   "cell_type": "code",
   "execution_count": 19,
   "metadata": {},
   "outputs": [
    {
     "data": {
      "text/plain": [
       "<matplotlib.axes._subplots.AxesSubplot at 0xeddef10>"
      ]
     },
     "execution_count": 19,
     "metadata": {},
     "output_type": "execute_result"
    },
    {
     "data": {
      "image/png": "[encoded data removed]",
      "text/plain": [
       "<Figure size 864x576 with 2 Axes>"
      ]
     },
     "metadata": {
      "needs_background": "light"
     },
     "output_type": "display_data"
    }
   ],
   "source": [
    "plt.figure(figsize = (12,8))\n",
    "sns.heatmap(covid19_df_latest.corr(), annot=True)"
   ]
  },
  {
   "cell_type": "markdown",
   "metadata": {},
   "source": [
    "We notice that some measures like Confirmed, Cured, Deaths and Cases/10 million are very much co-related and we do not fret to realise the reason."
   ]
  },
  {
   "cell_type": "markdown",
   "metadata": {},
   "source": [
    "<h1> INDIVIDUAL DATA </h1>\n",
    "\n",
    "Next up, we have a look at the individual case data which we have. On initial inspection of this dataset, we see that there are a huge number of missing data in this dataset which we must take into consideration as we move forward with our analysis."
   ]
  },
  {
   "cell_type": "code",
   "execution_count": 20,
   "metadata": {},
   "outputs": [
    {
     "data": {
      "text/plain": [
       "id                        0\n",
       "government_id         15514\n",
       "diagnosed_date            0\n",
       "age                   16332\n",
       "gender                14148\n",
       "detected_city         15869\n",
       "detected_district      3358\n",
       "detected_state            0\n",
       "nationality           16424\n",
       "status_change_date      110\n",
       "notes                  1318\n",
       "dtype: int64"
      ]
     },
     "execution_count": 20,
     "metadata": {},
     "output_type": "execute_result"
    }
   ],
   "source": [
    "individuals_df.isna().sum()"
   ]
  },
  {
   "cell_type": "code",
   "execution_count": 21,
   "metadata": {},
   "outputs": [
    {
     "data": {
      "text/plain": [
       "id                                       0\n",
       "government_id                     KL-TS-P1\n",
       "diagnosed_date                  30/01/2020\n",
       "age                                     20\n",
       "gender                                   F\n",
       "detected_city                     Thrissur\n",
       "detected_district                 Thrissur\n",
       "detected_state                      Kerala\n",
       "nationality                          India\n",
       "status_change_date              14/02/2020\n",
       "notes                 Travelled from Wuhan\n",
       "Name: 0, dtype: object"
      ]
     },
     "execution_count": 21,
     "metadata": {},
     "output_type": "execute_result"
    }
   ],
   "source": [
    "individuals_df.iloc[0]"
   ]
  },
  {
   "cell_type": "markdown",
   "metadata": {},
   "source": [
    "The first case in India due to COVID-19 was noticed on 30th January 2020. It was detected in the city of Thrissur in Kerala. The individual had a travel history in Wuhan."
   ]
  },
  {
   "cell_type": "code",
   "execution_count": 22,
   "metadata": {},
   "outputs": [
    {
     "data": {
      "text/plain": [
       "detected_district\n",
       "Mumbai       2268\n",
       "Ahmadabad    1192\n",
       "Indore        841\n",
       "Pune          591\n",
       "Jaipur        578\n",
       "Name: id, dtype: int64"
      ]
     },
     "execution_count": 22,
     "metadata": {},
     "output_type": "execute_result"
    }
   ],
   "source": [
    "individuals_grouped_district = individuals_df.groupby('detected_district')\n",
    "individuals_grouped_district = individuals_grouped_district['id']\n",
    "individuals_grouped_district.columns = ['count']\n",
    "individuals_grouped_district.count().sort_values(ascending=False).head()"
   ]
  },
  {
   "cell_type": "markdown",
   "metadata": {},
   "source": [
    "Next up, I decided to group the individual data in terms of district where the case was found. I had to be extra careful while doing this since there were some missing data in this column. From the data which was available, Mumbai is the worst hit district in the country. It has more than 2000 cases followed by Ahmedabad. Pune is another district in Maharashtra which figures in this list. All these districts belong to states which we had seen in the earlier graphs as well."
   ]
  },
  {
   "cell_type": "code",
   "execution_count": 23,
   "metadata": {},
   "outputs": [
    {
     "data": {
      "image/png": "[encoded data removed]",
      "text/plain": [
       "<Figure size 800x480 with 1 Axes>"
      ]
     },
     "metadata": {
      "needs_background": "light"
     },
     "output_type": "display_data"
    }
   ],
   "source": [
    "individuals_grouped_gender = individuals_df.groupby('gender')\n",
    "individuals_grouped_gender = pd.DataFrame(individuals_grouped_gender.size().reset_index(name = \"count\"))\n",
    "individuals_grouped_gender.head()\n",
    "\n",
    "plt.figure(figsize=(10,6), dpi=80)\n",
    "barlist = plt.bar(individuals_grouped_gender['gender'], individuals_grouped_gender['count'], align = 'center', color='grey', alpha=0.3)\n",
    "barlist[1].set_color('r')\n",
    "plt.ylabel('Count', size=12)\n",
    "plt.title('Count on the basis of gender', size=16)\n",
    "plt.show()"
   ]
  },
  {
   "cell_type": "markdown",
   "metadata": {},
   "source": [
    "Continuing our analysis, I thought about looking at how the case count is distributed according to gender. We see that there is no parity in this distribution. From the data, it seems that the virus is affecting males more than females in India. This is also validated by news article. You can read <a href = 'https://www.theguardian.com/commentisfree/2020/apr/07/coronavirus-hits-men-harder-evidence-risk'> this</a>."
   ]
  },
  {
   "cell_type": "markdown",
   "metadata": {},
   "source": [
    "<h1> PROGRESSION OF CASE COUNT IN INDIA </h1>\n",
    "\n",
    "In this section, we will have a look at how the number of cases increased in India. Afterwards, we will inspect this curve and find similarities with the state-level curves.\n",
    "\n",
    "For doing this analysis, I had to modify the dataset a bit. I grouped the data on the basis of the diagnosed data feature so that I had a count of number of cases detected each day throughout India. I followed this up by doing a cumulative sum of this feature and adding it to a new column."
   ]
  },
  {
   "cell_type": "code",
   "execution_count": 24,
   "metadata": {},
   "outputs": [
    {
     "data": {
      "text/html": [
       "<div>\n",
       "<style scoped>\n",
       "    .dataframe tbody tr th:only-of-type {\n",
       "        vertical-align: middle;\n",
       "    }\n",
       "\n",
       "    .dataframe tbody tr th {\n",
       "        vertical-align: top;\n",
       "    }\n",
       "\n",
       "    .dataframe thead th {\n",
       "        text-align: right;\n",
       "    }\n",
       "</style>\n",
       "<table border=\"1\" class=\"dataframe\">\n",
       "  <thead>\n",
       "    <tr style=\"text-align: right;\">\n",
       "      <th></th>\n",
       "      <th>diagnosed_date</th>\n",
       "      <th>count</th>\n",
       "      <th>Cumulative Count</th>\n",
       "    </tr>\n",
       "  </thead>\n",
       "  <tbody>\n",
       "    <tr>\n",
       "      <th>0</th>\n",
       "      <td>30/01/2020</td>\n",
       "      <td>1</td>\n",
       "      <td>1</td>\n",
       "    </tr>\n",
       "    <tr>\n",
       "      <th>1</th>\n",
       "      <td>02/02/2020</td>\n",
       "      <td>1</td>\n",
       "      <td>2</td>\n",
       "    </tr>\n",
       "    <tr>\n",
       "      <th>2</th>\n",
       "      <td>03/02/2020</td>\n",
       "      <td>1</td>\n",
       "      <td>3</td>\n",
       "    </tr>\n",
       "    <tr>\n",
       "      <th>3</th>\n",
       "      <td>02/03/2020</td>\n",
       "      <td>2</td>\n",
       "      <td>5</td>\n",
       "    </tr>\n",
       "    <tr>\n",
       "      <th>4</th>\n",
       "      <td>03/03/2020</td>\n",
       "      <td>1</td>\n",
       "      <td>6</td>\n",
       "    </tr>\n",
       "  </tbody>\n",
       "</table>\n",
       "</div>"
      ],
      "text/plain": [
       "  diagnosed_date  count  Cumulative Count\n",
       "0     30/01/2020      1                 1\n",
       "1     02/02/2020      1                 2\n",
       "2     03/02/2020      1                 3\n",
       "3     02/03/2020      2                 5\n",
       "4     03/03/2020      1                 6"
      ]
     },
     "execution_count": 24,
     "metadata": {},
     "output_type": "execute_result"
    }
   ],
   "source": [
    "individuals_grouped_date = individuals_df.groupby('diagnosed_date')\n",
    "individuals_grouped_date = pd.DataFrame(individuals_grouped_date.size().reset_index(name = \"count\"))\n",
    "individuals_grouped_date[['Day','Month','Year']] = individuals_grouped_date.diagnosed_date.apply( \n",
    "   lambda x: pd.Series(str(x).split(\"/\")))\n",
    "individuals_grouped_date.sort_values(by=['Year','Month','Day'], inplace = True, ascending = True)\n",
    "individuals_grouped_date.reset_index(inplace = True)\n",
    "individuals_grouped_date['Cumulative Count'] = individuals_grouped_date['count'].cumsum()\n",
    "individuals_grouped_date = individuals_grouped_date.drop(['index', 'Day', 'Month', 'Year'], axis = 1)\n",
    "individuals_grouped_date.head()"
   ]
  },
  {
   "cell_type": "code",
   "execution_count": 25,
   "metadata": {},
   "outputs": [
    {
     "data": {
      "text/html": [
       "<div>\n",
       "<style scoped>\n",
       "    .dataframe tbody tr th:only-of-type {\n",
       "        vertical-align: middle;\n",
       "    }\n",
       "\n",
       "    .dataframe tbody tr th {\n",
       "        vertical-align: top;\n",
       "    }\n",
       "\n",
       "    .dataframe thead th {\n",
       "        text-align: right;\n",
       "    }\n",
       "</style>\n",
       "<table border=\"1\" class=\"dataframe\">\n",
       "  <thead>\n",
       "    <tr style=\"text-align: right;\">\n",
       "      <th></th>\n",
       "      <th>diagnosed_date</th>\n",
       "      <th>count</th>\n",
       "      <th>Cumulative Count</th>\n",
       "    </tr>\n",
       "  </thead>\n",
       "  <tbody>\n",
       "    <tr>\n",
       "      <th>48</th>\n",
       "      <td>16/04/2020</td>\n",
       "      <td>1061</td>\n",
       "      <td>13431</td>\n",
       "    </tr>\n",
       "    <tr>\n",
       "      <th>49</th>\n",
       "      <td>17/04/2020</td>\n",
       "      <td>922</td>\n",
       "      <td>14353</td>\n",
       "    </tr>\n",
       "    <tr>\n",
       "      <th>50</th>\n",
       "      <td>18/04/2020</td>\n",
       "      <td>1371</td>\n",
       "      <td>15724</td>\n",
       "    </tr>\n",
       "    <tr>\n",
       "      <th>51</th>\n",
       "      <td>19/04/2020</td>\n",
       "      <td>1580</td>\n",
       "      <td>17304</td>\n",
       "    </tr>\n",
       "    <tr>\n",
       "      <th>52</th>\n",
       "      <td>20/04/2020</td>\n",
       "      <td>728</td>\n",
       "      <td>18032</td>\n",
       "    </tr>\n",
       "  </tbody>\n",
       "</table>\n",
       "</div>"
      ],
      "text/plain": [
       "   diagnosed_date  count  Cumulative Count\n",
       "48     16/04/2020   1061             13431\n",
       "49     17/04/2020    922             14353\n",
       "50     18/04/2020   1371             15724\n",
       "51     19/04/2020   1580             17304\n",
       "52     20/04/2020    728             18032"
      ]
     },
     "execution_count": 25,
     "metadata": {},
     "output_type": "execute_result"
    }
   ],
   "source": [
    "individuals_grouped_date.tail()"
   ]
  },
  {
   "cell_type": "markdown",
   "metadata": {},
   "source": [
    "This dataset contained data till the 20th of April. On that day, India had a total of 18,032 confirmed cases. We notice that the dataset contains data from 30th January but does not contain data in between since no cases were detected in that period. For the sake of continuity, I decided to assume 2nd March 2020 as Day 1 since we have data for every day since then."
   ]
  },
  {
   "cell_type": "code",
   "execution_count": 26,
   "metadata": {},
   "outputs": [
    {
     "data": {
      "image/png": "[encoded data removed]",
      "text/plain": [
       "<Figure size 960x640 with 1 Axes>"
      ]
     },
     "metadata": {
      "needs_background": "light"
     },
     "output_type": "display_data"
    }
   ],
   "source": [
    "individuals_grouped_date = individuals_grouped_date.iloc[3:]\n",
    "individuals_grouped_date.reset_index(inplace = True)\n",
    "individuals_grouped_date.columns = ['Day Number', 'diagnosed_date', 'count', 'Cumulative Count']\n",
    "individuals_grouped_date['Day Number'] = individuals_grouped_date['Day Number'] - 2\n",
    "individuals_grouped_date\n",
    "\n",
    "plt.figure(figsize=(12,8), dpi=80)\n",
    "plt.plot(individuals_grouped_date['Day Number'], individuals_grouped_date['Cumulative Count'], color=\"grey\", alpha = 0.5)\n",
    "plt.xlabel('Number of Days', size = 12)\n",
    "plt.ylabel('Number of Cases', size = 12)\n",
    "plt.title('How the case count increased in India', size=16)\n",
    "plt.show()"
   ]
  },
  {
   "cell_type": "markdown",
   "metadata": {},
   "source": [
    "In the above curve, we see that the rise was more or less steady till the 20th day mark. In the interval between 20-30, the curve inclined a little. This inclination gradually incremented and we see a steady and steep slope after 30-day mark with no signs of flattening. These are ominous indications.\n",
    "\n",
    "In the next few code elements, I prepare and process the dataset to group the data in terms of different states. I used the following five states for this next analysis:\n",
    "<li> Maharashtra </li>\n",
    "<li> Kerala </li>\n",
    "<li> Delhi </li>\n",
    "<li> Rajasthan </li>\n",
    "<li> Gujarat </li>"
   ]
  },
  {
   "cell_type": "code",
   "execution_count": 27,
   "metadata": {},
   "outputs": [
    {
     "name": "stdout",
     "output_type": "stream",
     "text": [
      "(55, 5)\n"
     ]
    },
    {
     "data": {
      "text/html": [
       "<div>\n",
       "<style scoped>\n",
       "    .dataframe tbody tr th:only-of-type {\n",
       "        vertical-align: middle;\n",
       "    }\n",
       "\n",
       "    .dataframe tbody tr th {\n",
       "        vertical-align: top;\n",
       "    }\n",
       "\n",
       "    .dataframe thead th {\n",
       "        text-align: right;\n",
       "    }\n",
       "</style>\n",
       "<table border=\"1\" class=\"dataframe\">\n",
       "  <thead>\n",
       "    <tr style=\"text-align: right;\">\n",
       "      <th></th>\n",
       "      <th>Day Count</th>\n",
       "      <th>Date</th>\n",
       "      <th>State/UnionTerritory</th>\n",
       "      <th>Deaths</th>\n",
       "      <th>Confirmed</th>\n",
       "    </tr>\n",
       "  </thead>\n",
       "  <tbody>\n",
       "    <tr>\n",
       "      <th>0</th>\n",
       "      <td>1</td>\n",
       "      <td>02/03/20</td>\n",
       "      <td>Maharashtra</td>\n",
       "      <td>0</td>\n",
       "      <td>0</td>\n",
       "    </tr>\n",
       "    <tr>\n",
       "      <th>1</th>\n",
       "      <td>2</td>\n",
       "      <td>03/03/20</td>\n",
       "      <td>Maharashtra</td>\n",
       "      <td>0</td>\n",
       "      <td>0</td>\n",
       "    </tr>\n",
       "    <tr>\n",
       "      <th>2</th>\n",
       "      <td>3</td>\n",
       "      <td>04/03/20</td>\n",
       "      <td>Maharashtra</td>\n",
       "      <td>0</td>\n",
       "      <td>0</td>\n",
       "    </tr>\n",
       "    <tr>\n",
       "      <th>3</th>\n",
       "      <td>4</td>\n",
       "      <td>05/03/20</td>\n",
       "      <td>Maharashtra</td>\n",
       "      <td>0</td>\n",
       "      <td>0</td>\n",
       "    </tr>\n",
       "    <tr>\n",
       "      <th>4</th>\n",
       "      <td>5</td>\n",
       "      <td>06/03/20</td>\n",
       "      <td>Maharashtra</td>\n",
       "      <td>0</td>\n",
       "      <td>0</td>\n",
       "    </tr>\n",
       "  </tbody>\n",
       "</table>\n",
       "</div>"
      ],
      "text/plain": [
       "   Day Count      Date State/UnionTerritory  Deaths  Confirmed\n",
       "0          1  02/03/20          Maharashtra       0          0\n",
       "1          2  03/03/20          Maharashtra       0          0\n",
       "2          3  04/03/20          Maharashtra       0          0\n",
       "3          4  05/03/20          Maharashtra       0          0\n",
       "4          5  06/03/20          Maharashtra       0          0"
      ]
     },
     "execution_count": 27,
     "metadata": {},
     "output_type": "execute_result"
    }
   ],
   "source": [
    "covid19_maharashtra = covid19_df[covid19_df['State/UnionTerritory'] == \"Maharashtra\"]\n",
    "covid19_maharashtra.head()\n",
    "covid19_maharashtra.reset_index(inplace = True)\n",
    "covid19_maharashtra = covid19_maharashtra.drop(['index', 'Sno', 'Time', 'ConfirmedIndianNational', 'ConfirmedForeignNational','Cured'],  axis = 1)\n",
    "covid19_maharashtra.reset_index(inplace = True)\n",
    "covid19_maharashtra.columns = ['Day Count', 'Date', 'State/UnionTerritory', 'Deaths', 'Confirmed']\n",
    "covid19_maharashtra['Day Count'] = covid19_maharashtra['Day Count'] + 8\n",
    "missing_values = pd.DataFrame({\"Day Count\": [x for x in range(1,8)],\n",
    "                           \"Date\": [\"0\"+str(x)+\"/03/20\" for x in range(2,9)],\n",
    "                           \"State/UnionTerritory\": [\"Maharashtra\"]*7,\n",
    "                           \"Deaths\": [0]*7,\n",
    "                           \"Confirmed\": [0]*7})\n",
    "covid19_maharashtra = covid19_maharashtra.append(missing_values, ignore_index = True)\n",
    "covid19_maharashtra = covid19_maharashtra.sort_values(by=\"Day Count\", ascending = True)\n",
    "covid19_maharashtra.reset_index(drop=True, inplace=True)\n",
    "print(covid19_maharashtra.shape)\n",
    "covid19_maharashtra.head()"
   ]
  },
  {
   "cell_type": "code",
   "execution_count": 28,
   "metadata": {},
   "outputs": [
    {
     "name": "stdout",
     "output_type": "stream",
     "text": [
      "(55, 5)\n"
     ]
    },
    {
     "data": {
      "text/html": [
       "<div>\n",
       "<style scoped>\n",
       "    .dataframe tbody tr th:only-of-type {\n",
       "        vertical-align: middle;\n",
       "    }\n",
       "\n",
       "    .dataframe tbody tr th {\n",
       "        vertical-align: top;\n",
       "    }\n",
       "\n",
       "    .dataframe thead th {\n",
       "        text-align: right;\n",
       "    }\n",
       "</style>\n",
       "<table border=\"1\" class=\"dataframe\">\n",
       "  <thead>\n",
       "    <tr style=\"text-align: right;\">\n",
       "      <th></th>\n",
       "      <th>Day Count</th>\n",
       "      <th>Date</th>\n",
       "      <th>State/UnionTerritory</th>\n",
       "      <th>Deaths</th>\n",
       "      <th>Confirmed</th>\n",
       "    </tr>\n",
       "  </thead>\n",
       "  <tbody>\n",
       "    <tr>\n",
       "      <th>0</th>\n",
       "      <td>1</td>\n",
       "      <td>02/03/20</td>\n",
       "      <td>Kerala</td>\n",
       "      <td>0</td>\n",
       "      <td>3</td>\n",
       "    </tr>\n",
       "    <tr>\n",
       "      <th>1</th>\n",
       "      <td>2</td>\n",
       "      <td>03/03/20</td>\n",
       "      <td>Kerala</td>\n",
       "      <td>0</td>\n",
       "      <td>3</td>\n",
       "    </tr>\n",
       "    <tr>\n",
       "      <th>2</th>\n",
       "      <td>3</td>\n",
       "      <td>04/03/20</td>\n",
       "      <td>Kerala</td>\n",
       "      <td>0</td>\n",
       "      <td>3</td>\n",
       "    </tr>\n",
       "    <tr>\n",
       "      <th>3</th>\n",
       "      <td>4</td>\n",
       "      <td>05/03/20</td>\n",
       "      <td>Kerala</td>\n",
       "      <td>0</td>\n",
       "      <td>3</td>\n",
       "    </tr>\n",
       "    <tr>\n",
       "      <th>4</th>\n",
       "      <td>5</td>\n",
       "      <td>06/03/20</td>\n",
       "      <td>Kerala</td>\n",
       "      <td>0</td>\n",
       "      <td>3</td>\n",
       "    </tr>\n",
       "  </tbody>\n",
       "</table>\n",
       "</div>"
      ],
      "text/plain": [
       "   Day Count      Date State/UnionTerritory  Deaths  Confirmed\n",
       "0          1  02/03/20               Kerala       0          3\n",
       "1          2  03/03/20               Kerala       0          3\n",
       "2          3  04/03/20               Kerala       0          3\n",
       "3          4  05/03/20               Kerala       0          3\n",
       "4          5  06/03/20               Kerala       0          3"
      ]
     },
     "execution_count": 28,
     "metadata": {},
     "output_type": "execute_result"
    }
   ],
   "source": [
    "covid19_kerala = covid19_df[covid19_df['State/UnionTerritory'] == \"Kerala\"]\n",
    "covid19_kerala = covid19_kerala.iloc[32:]\n",
    "covid19_kerala.reset_index(inplace = True)\n",
    "covid19_kerala = covid19_kerala.drop(['index','Sno', 'Time', 'ConfirmedIndianNational', 'ConfirmedForeignNational','Cured'], axis = 1)\n",
    "covid19_kerala.reset_index(inplace = True)\n",
    "covid19_kerala.columns = ['Day Count', 'Date', 'State/UnionTerritory', 'Deaths', 'Confirmed']\n",
    "covid19_kerala['Day Count'] = covid19_kerala['Day Count'] + 1\n",
    "print(covid19_kerala.shape)\n",
    "covid19_kerala.head()"
   ]
  },
  {
   "cell_type": "code",
   "execution_count": 29,
   "metadata": {},
   "outputs": [
    {
     "name": "stdout",
     "output_type": "stream",
     "text": [
      "(55, 5)\n"
     ]
    },
    {
     "data": {
      "text/html": [
       "<div>\n",
       "<style scoped>\n",
       "    .dataframe tbody tr th:only-of-type {\n",
       "        vertical-align: middle;\n",
       "    }\n",
       "\n",
       "    .dataframe tbody tr th {\n",
       "        vertical-align: top;\n",
       "    }\n",
       "\n",
       "    .dataframe thead th {\n",
       "        text-align: right;\n",
       "    }\n",
       "</style>\n",
       "<table border=\"1\" class=\"dataframe\">\n",
       "  <thead>\n",
       "    <tr style=\"text-align: right;\">\n",
       "      <th></th>\n",
       "      <th>Day Count</th>\n",
       "      <th>Date</th>\n",
       "      <th>State/UnionTerritory</th>\n",
       "      <th>Deaths</th>\n",
       "      <th>Confirmed</th>\n",
       "    </tr>\n",
       "  </thead>\n",
       "  <tbody>\n",
       "    <tr>\n",
       "      <th>0</th>\n",
       "      <td>1</td>\n",
       "      <td>02/03/20</td>\n",
       "      <td>Delhi</td>\n",
       "      <td>0</td>\n",
       "      <td>1</td>\n",
       "    </tr>\n",
       "    <tr>\n",
       "      <th>1</th>\n",
       "      <td>2</td>\n",
       "      <td>03/03/20</td>\n",
       "      <td>Delhi</td>\n",
       "      <td>0</td>\n",
       "      <td>1</td>\n",
       "    </tr>\n",
       "    <tr>\n",
       "      <th>2</th>\n",
       "      <td>3</td>\n",
       "      <td>04/03/20</td>\n",
       "      <td>Delhi</td>\n",
       "      <td>0</td>\n",
       "      <td>1</td>\n",
       "    </tr>\n",
       "    <tr>\n",
       "      <th>3</th>\n",
       "      <td>4</td>\n",
       "      <td>05/03/20</td>\n",
       "      <td>Delhi</td>\n",
       "      <td>0</td>\n",
       "      <td>2</td>\n",
       "    </tr>\n",
       "    <tr>\n",
       "      <th>4</th>\n",
       "      <td>5</td>\n",
       "      <td>06/03/20</td>\n",
       "      <td>Delhi</td>\n",
       "      <td>0</td>\n",
       "      <td>3</td>\n",
       "    </tr>\n",
       "  </tbody>\n",
       "</table>\n",
       "</div>"
      ],
      "text/plain": [
       "   Day Count      Date State/UnionTerritory  Deaths  Confirmed\n",
       "0          1  02/03/20                Delhi       0          1\n",
       "1          2  03/03/20                Delhi       0          1\n",
       "2          3  04/03/20                Delhi       0          1\n",
       "3          4  05/03/20                Delhi       0          2\n",
       "4          5  06/03/20                Delhi       0          3"
      ]
     },
     "execution_count": 29,
     "metadata": {},
     "output_type": "execute_result"
    }
   ],
   "source": [
    "covid19_delhi = covid19_df[covid19_df['State/UnionTerritory'] == \"Delhi\"]\n",
    "covid19_delhi.reset_index(inplace = True)\n",
    "covid19_delhi = covid19_delhi.drop(['index','Sno', 'Time', 'ConfirmedIndianNational', 'ConfirmedForeignNational','Cured'], axis = 1)\n",
    "covid19_delhi.reset_index(inplace = True)\n",
    "covid19_delhi.columns = ['Day Count', 'Date', 'State/UnionTerritory', 'Deaths', 'Confirmed']\n",
    "covid19_delhi['Day Count'] = covid19_delhi['Day Count'] + 1\n",
    "print(covid19_delhi.shape)\n",
    "covid19_delhi.head()"
   ]
  },
  {
   "cell_type": "code",
   "execution_count": 30,
   "metadata": {},
   "outputs": [
    {
     "name": "stdout",
     "output_type": "stream",
     "text": [
      "(55, 5)\n"
     ]
    },
    {
     "data": {
      "text/html": [
       "<div>\n",
       "<style scoped>\n",
       "    .dataframe tbody tr th:only-of-type {\n",
       "        vertical-align: middle;\n",
       "    }\n",
       "\n",
       "    .dataframe tbody tr th {\n",
       "        vertical-align: top;\n",
       "    }\n",
       "\n",
       "    .dataframe thead th {\n",
       "        text-align: right;\n",
       "    }\n",
       "</style>\n",
       "<table border=\"1\" class=\"dataframe\">\n",
       "  <thead>\n",
       "    <tr style=\"text-align: right;\">\n",
       "      <th></th>\n",
       "      <th>Day Count</th>\n",
       "      <th>Date</th>\n",
       "      <th>State/UnionTerritory</th>\n",
       "      <th>Deaths</th>\n",
       "      <th>Confirmed</th>\n",
       "    </tr>\n",
       "  </thead>\n",
       "  <tbody>\n",
       "    <tr>\n",
       "      <th>0</th>\n",
       "      <td>1</td>\n",
       "      <td>02/03/20</td>\n",
       "      <td>Rajasthan</td>\n",
       "      <td>0</td>\n",
       "      <td>0</td>\n",
       "    </tr>\n",
       "    <tr>\n",
       "      <th>1</th>\n",
       "      <td>2</td>\n",
       "      <td>03/03/20</td>\n",
       "      <td>Rajasthan</td>\n",
       "      <td>0</td>\n",
       "      <td>1</td>\n",
       "    </tr>\n",
       "    <tr>\n",
       "      <th>2</th>\n",
       "      <td>3</td>\n",
       "      <td>04/03/20</td>\n",
       "      <td>Rajasthan</td>\n",
       "      <td>0</td>\n",
       "      <td>15</td>\n",
       "    </tr>\n",
       "    <tr>\n",
       "      <th>3</th>\n",
       "      <td>4</td>\n",
       "      <td>05/03/20</td>\n",
       "      <td>Rajasthan</td>\n",
       "      <td>0</td>\n",
       "      <td>15</td>\n",
       "    </tr>\n",
       "    <tr>\n",
       "      <th>4</th>\n",
       "      <td>5</td>\n",
       "      <td>06/03/20</td>\n",
       "      <td>Rajasthan</td>\n",
       "      <td>0</td>\n",
       "      <td>15</td>\n",
       "    </tr>\n",
       "  </tbody>\n",
       "</table>\n",
       "</div>"
      ],
      "text/plain": [
       "   Day Count      Date State/UnionTerritory  Deaths  Confirmed\n",
       "0          1  02/03/20            Rajasthan       0          0\n",
       "1          2  03/03/20            Rajasthan       0          1\n",
       "2          3  04/03/20            Rajasthan       0         15\n",
       "3          4  05/03/20            Rajasthan       0         15\n",
       "4          5  06/03/20            Rajasthan       0         15"
      ]
     },
     "execution_count": 30,
     "metadata": {},
     "output_type": "execute_result"
    }
   ],
   "source": [
    "covid19_rajasthan = covid19_df[covid19_df['State/UnionTerritory'] == \"Rajasthan\"]\n",
    "covid19_rajasthan.reset_index(inplace = True)\n",
    "covid19_rajasthan = covid19_rajasthan.drop(['index','Sno', 'Time', 'ConfirmedIndianNational', 'ConfirmedForeignNational','Cured'], axis = 1)\n",
    "covid19_rajasthan.reset_index(inplace = True)\n",
    "covid19_rajasthan.columns = ['Day Count', 'Date', 'State/UnionTerritory', 'Deaths', 'Confirmed']\n",
    "covid19_rajasthan['Day Count'] = covid19_rajasthan['Day Count'] + 2\n",
    "missing_values = pd.DataFrame({\"Day Count\": [1],\n",
    "                           \"Date\": [\"02/03/20\"],\n",
    "                           \"State/UnionTerritory\": [\"Rajasthan\"],\n",
    "                           \"Deaths\": [0],\n",
    "                           \"Confirmed\": [0]})\n",
    "covid19_rajasthan = covid19_rajasthan.append(missing_values, ignore_index = True)\n",
    "covid19_rajasthan = covid19_rajasthan.sort_values(by=\"Day Count\", ascending = True)\n",
    "covid19_rajasthan.reset_index(drop=True, inplace=True)\n",
    "print(covid19_rajasthan.shape)\n",
    "covid19_rajasthan.head()"
   ]
  },
  {
   "cell_type": "code",
   "execution_count": 31,
   "metadata": {},
   "outputs": [
    {
     "name": "stdout",
     "output_type": "stream",
     "text": [
      "(55, 5)\n"
     ]
    },
    {
     "data": {
      "text/html": [
       "<div>\n",
       "<style scoped>\n",
       "    .dataframe tbody tr th:only-of-type {\n",
       "        vertical-align: middle;\n",
       "    }\n",
       "\n",
       "    .dataframe tbody tr th {\n",
       "        vertical-align: top;\n",
       "    }\n",
       "\n",
       "    .dataframe thead th {\n",
       "        text-align: right;\n",
       "    }\n",
       "</style>\n",
       "<table border=\"1\" class=\"dataframe\">\n",
       "  <thead>\n",
       "    <tr style=\"text-align: right;\">\n",
       "      <th></th>\n",
       "      <th>Day Count</th>\n",
       "      <th>Date</th>\n",
       "      <th>State/UnionTerritory</th>\n",
       "      <th>Deaths</th>\n",
       "      <th>Confirmed</th>\n",
       "    </tr>\n",
       "  </thead>\n",
       "  <tbody>\n",
       "    <tr>\n",
       "      <th>0</th>\n",
       "      <td>1</td>\n",
       "      <td>02/03/20</td>\n",
       "      <td>Gujarat</td>\n",
       "      <td>0</td>\n",
       "      <td>0</td>\n",
       "    </tr>\n",
       "    <tr>\n",
       "      <th>1</th>\n",
       "      <td>2</td>\n",
       "      <td>03/03/20</td>\n",
       "      <td>Gujarat</td>\n",
       "      <td>0</td>\n",
       "      <td>0</td>\n",
       "    </tr>\n",
       "    <tr>\n",
       "      <th>2</th>\n",
       "      <td>3</td>\n",
       "      <td>04/03/20</td>\n",
       "      <td>Gujarat</td>\n",
       "      <td>0</td>\n",
       "      <td>0</td>\n",
       "    </tr>\n",
       "    <tr>\n",
       "      <th>3</th>\n",
       "      <td>4</td>\n",
       "      <td>05/03/20</td>\n",
       "      <td>Gujarat</td>\n",
       "      <td>0</td>\n",
       "      <td>0</td>\n",
       "    </tr>\n",
       "    <tr>\n",
       "      <th>4</th>\n",
       "      <td>5</td>\n",
       "      <td>06/03/20</td>\n",
       "      <td>Gujarat</td>\n",
       "      <td>0</td>\n",
       "      <td>0</td>\n",
       "    </tr>\n",
       "  </tbody>\n",
       "</table>\n",
       "</div>"
      ],
      "text/plain": [
       "   Day Count      Date State/UnionTerritory  Deaths  Confirmed\n",
       "0          1  02/03/20              Gujarat       0          0\n",
       "1          2  03/03/20              Gujarat       0          0\n",
       "2          3  04/03/20              Gujarat       0          0\n",
       "3          4  05/03/20              Gujarat       0          0\n",
       "4          5  06/03/20              Gujarat       0          0"
      ]
     },
     "execution_count": 31,
     "metadata": {},
     "output_type": "execute_result"
    }
   ],
   "source": [
    "covid19_gujarat = covid19_df[covid19_df['State/UnionTerritory'] == \"Gujarat\"]\n",
    "covid19_gujarat.reset_index(inplace = True)\n",
    "covid19_gujarat = covid19_gujarat.drop(['index','Sno', 'Time', 'ConfirmedIndianNational', 'ConfirmedForeignNational','Cured'], axis = 1)\n",
    "covid19_gujarat.reset_index(inplace = True)\n",
    "covid19_gujarat.columns = ['Day Count', 'Date', 'State/UnionTerritory', 'Deaths', 'Confirmed']\n",
    "covid19_gujarat['Day Count'] = covid19_gujarat['Day Count'] + 19\n",
    "missing_values = pd.DataFrame({\"Day Count\": [x for x in range(1,19)],\n",
    "                           \"Date\": [(\"0\" + str(x) if x < 10 else str(x))+\"/03/20\" for x in range(2,20)],\n",
    "                           \"State/UnionTerritory\": [\"Gujarat\"]*18,\n",
    "                           \"Deaths\": [0]*18,\n",
    "                           \"Confirmed\": [0]*18})\n",
    "covid19_gujarat = covid19_gujarat.append(missing_values, ignore_index = True)\n",
    "covid19_gujarat = covid19_gujarat.sort_values(by=\"Day Count\", ascending = True)\n",
    "covid19_gujarat.reset_index(drop=True, inplace=True)\n",
    "print(covid19_gujarat.shape)\n",
    "covid19_gujarat.head()"
   ]
  },
  {
   "cell_type": "markdown",
   "metadata": {},
   "source": [
    "All of the five states have 55 records with 5 features. Each record stands for every day. In this analysis as well, I decided to use 2nd March 2020 as Day 1 for the sake of consistency.\n",
    "\n",
    "Let us now have a look at the visualization."
   ]
  },
  {
   "cell_type": "code",
   "execution_count": 32,
   "metadata": {},
   "outputs": [
    {
     "data": {
      "image/png": "[encoded data removed]",
      "text/plain": [
       "<Figure size 960x640 with 1 Axes>"
      ]
     },
     "metadata": {
      "needs_background": "light"
     },
     "output_type": "display_data"
    }
   ],
   "source": [
    "plt.figure(figsize=(12,8), dpi=80)\n",
    "plt.plot(covid19_kerala['Day Count'], covid19_kerala['Confirmed'])\n",
    "plt.plot(covid19_maharashtra['Day Count'], covid19_maharashtra['Confirmed'])\n",
    "plt.plot(covid19_delhi['Day Count'], covid19_delhi['Confirmed'])\n",
    "plt.plot(covid19_rajasthan['Day Count'], covid19_rajasthan['Confirmed'])\n",
    "plt.plot(covid19_gujarat['Day Count'], covid19_gujarat['Confirmed'])\n",
    "plt.legend(['Kerala', 'Maharashtra', 'Delhi', 'Rajasthan', 'Gujarat'], loc='upper left')\n",
    "plt.xlabel('Day Count', size=12)\n",
    "plt.ylabel('Confirmed Cases Count', size=12)\n",
    "plt.title('Which states are flattening the curve ?', size = 16)\n",
    "plt.show()"
   ]
  },
  {
   "cell_type": "markdown",
   "metadata": {},
   "source": [
    "We see almost all the curves follow the curve which is displayed by the nation as a whole. The only anomaly is that of Kerala. Kerala's curve saw the gradual incline in the period between 20-30 days as seen in other curves. But what Kerala managed to do was it did not let the curve incline further and manage to flatten the curve. As a result, the state has been able to contain the situation. \n",
    "\n",
    "The situation in Maharashtra looks very grave indeed. The curve has had an immense steep incline and shows no signs of slowing down. Gujarat's curve steeped at a later time interval compared to the rest. It remained in control till the 30-day mark and the steep worsened after 40 days.\n",
    "\n",
    "The only way we can as a whole prevent this impending crisis is by flattening the curve. All state governments needs to follow the Kerala model. It is the only state which managed to flatten the curve and hence, must have done most things right. It's time we followed the Kerala model."
   ]
  }
 ],
 "metadata": {
  "kernelspec": {
   "display_name": "Python 3",
   "language": "python",
   "name": "python3"
  },
  "language_info": {
   "codemirror_mode": {
    "name": "ipython",
    "version": 3
   },
   "file_extension": ".py",
   "mimetype": "text/x-python",
   "name": "python",
   "nbconvert_exporter": "python",
   "pygments_lexer": "ipython3",
   "version": "3.7.1"
  }
 },
 "nbformat": 4,
 "nbformat_minor": 2
}
